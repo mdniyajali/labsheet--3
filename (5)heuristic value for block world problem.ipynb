{
  "nbformat": 4,
  "nbformat_minor": 0,
  "metadata": {
    "colab": {
      "provenance": [],
      "include_colab_link": true
    },
    "kernelspec": {
      "name": "python3",
      "display_name": "Python 3"
    },
    "language_info": {
      "name": "python"
    }
  },
  "cells": [
    {
      "cell_type": "markdown",
      "metadata": {
        "id": "view-in-github",
        "colab_type": "text"
      },
      "source": [
        "<a href=\"https://colab.research.google.com/github/mdniyajali/labsheet--3/blob/main/(5)heuristic%20value%20for%20block%20world%20problem.ipynb\" target=\"_parent\"><img src=\"https://colab.research.google.com/assets/colab-badge.svg\" alt=\"Open In Colab\"/></a>"
      ]
    },
    {
      "cell_type": "code",
      "execution_count": null,
      "metadata": {
        "colab": {
          "base_uri": "https://localhost:8080/"
        },
        "id": "TYyzbl-vdkta",
        "outputId": "4c85f959-f24d-4926-d28c-611211d1b3bc"
      },
      "outputs": [
        {
          "output_type": "stream",
          "name": "stdout",
          "text": [
            "Heuristic Value: -4\n"
          ]
        }
      ],
      "source": [
        "def calculate_heuristic(start_state, goal_state):\n",
        "    \"\"\"\n",
        "    Calculates the heuristic value of the start state compared to the goal state.\n",
        "\n",
        "    Args:\n",
        "        start_state (list): A list of stacks representing the current state.\n",
        "        goal_state (list): A list of stacks representing the goal state.\n",
        "\n",
        "    Returns:\n",
        "        int: The heuristic value of the state.\n",
        "    \"\"\"\n",
        "    heuristic = 0\n",
        "    for stack_index, goal_stack in enumerate(goal_state):\n",
        "        for i, block in enumerate(goal_stack):\n",
        "            if stack_index < len(start_state) and i < len(start_state[stack_index]):\n",
        "                if start_state[stack_index][i] == block:\n",
        "                    heuristic += 1\n",
        "                else:\n",
        "                    heuristic -= 1\n",
        "            else:\n",
        "                heuristic -= 1\n",
        "    return heuristic\n",
        "\n",
        "\n",
        "# Example usage\n",
        "start_state = [\n",
        "    ['A'],  # Stack 1\n",
        "    ['D'],  # Stack 2\n",
        "    ['C'],  # Stack 3\n",
        "    ['B']   # Stack 4\n",
        "]\n",
        "\n",
        "goal_state = [\n",
        "    ['D'],  # Stack 1\n",
        "    ['C'],  # Stack 2\n",
        "    ['B'],  # Stack 3\n",
        "    ['A']   # Stack 4\n",
        "]\n",
        "\n",
        "heuristic_value = calculate_heuristic(start_state, goal_state)\n",
        "print(\"Heuristic Value:\", heuristic_value)"
      ]
    },
    {
      "cell_type": "code",
      "source": [
        "def calculate_heuristic(start_state, goal_state):\n",
        "    \"\"\"\n",
        "    Calculates the heuristic value for the Blocks World problem.\n",
        "\n",
        "Args:\n",
        "start_state (list): A list of blocks from top to bottom in the start state.\n",
        "goal_state (list): A list of blocks from top to bottom in the goal state.\n",
        "\n",
        "    Returns:\n",
        "        int: The heuristic value of the state.\n",
        "    \"\"\"\n",
        "    heuristic = 0\n",
        "    n = len(start_state)\n",
        "\n",
        "    for i in range(n):\n",
        "        if start_state[i:] == goal_state[i:]:\n",
        "# If the support structure matches the goal\n",
        "            heuristic += 1\n",
        "            break  # Remaining structure is correct\n",
        "        else:\n",
        "# If the support structure does not match\n",
        "            heuristic -= 1\n",
        "\n",
        "    return heuristic\n",
        "\n",
        "\n",
        "# Example: Define the start and goal states\n",
        "start_state = [\"A\", \"D\", \"C\", \"B\"]  # Top to bottom\n",
        "goal_state = [\"D\", \"C\", \"B\", \"A\"]   # Top to bottom\n",
        "\n",
        "# Calculate and print the heuristic value\n",
        "heuristic_value = calculate_heuristic(start_state, goal_state)\n",
        "print(f\"Heuristic Value: {heuristic_value}\")\n"
      ],
      "metadata": {
        "id": "EnoBYG2x3cq_"
      },
      "execution_count": null,
      "outputs": []
    },
    {
      "cell_type": "code",
      "source": [
        "def calculate_heuristic(start_state, goal_state):\n",
        "    \"\"\"\n",
        "    Calculates the heuristic value for the Blocks World problem.\n",
        "\n",
        "Args:\n",
        "start_state (list): A list of blocks from top to bottom in the start state.\n",
        "goal_state (list): A list of blocks from top to bottom in the goal state.\n",
        "\n",
        "    Returns:\n",
        "        int: The heuristic value of the state.\n",
        "    \"\"\"\n",
        "    heuristic = 0\n",
        "    n = len(start_state)\n",
        "\n",
        "    for i in range(n):\n",
        "        if start_state[i:] == goal_state[i:]:\n",
        "# If the support structure matches the goal\n",
        "            heuristic += 1\n",
        "            break  # Remaining structure is correct\n",
        "        else:\n",
        "# If the support structure does not match\n",
        "            heuristic -= 1\n",
        "\n",
        "    return heuristic\n",
        "\n",
        "\n",
        "# Example: Define the start and goal states\n",
        "start_state = [\"A\", \"D\", \"C\", \"B\"]  # Top to bottom\n",
        "goal_state = [\"D\", \"C\", \"B\", \"A\"]   # Top to bottom\n",
        "\n",
        "# Calculate and print the heuristic value\n",
        "heuristic_value = calculate_heuristic(start_state, goal_state)\n",
        "print(f\"Heuristic Value: {heuristic_value}\")\n"
      ],
      "metadata": {
        "id": "w0ebvyFw3hZI"
      },
      "execution_count": null,
      "outputs": []
    }
  ]
}