{
  "nbformat": 4,
  "nbformat_minor": 0,
  "metadata": {
    "colab": {
      "provenance": [],
      "authorship_tag": "ABX9TyPavBElQsRONlYVLwa56XdO",
      "include_colab_link": true
    },
    "kernelspec": {
      "name": "python3",
      "display_name": "Python 3"
    },
    "language_info": {
      "name": "python"
    }
  },
  "cells": [
    {
      "cell_type": "markdown",
      "metadata": {
        "id": "view-in-github",
        "colab_type": "text"
      },
      "source": [
        "<a href=\"https://colab.research.google.com/github/mdniyajali/labsheet--3/blob/main/(5)heuristic%20value%20for%20block%20world%20problem.ipynb\" target=\"_parent\"><img src=\"https://colab.research.google.com/assets/colab-badge.svg\" alt=\"Open In Colab\"/></a>"
      ]
    },
    {
      "cell_type": "code",
      "execution_count": null,
      "metadata": {
        "colab": {
          "base_uri": "https://localhost:8080/"
        },
        "id": "TYyzbl-vdkta",
        "outputId": "4c85f959-f24d-4926-d28c-611211d1b3bc"
      },
      "outputs": [
        {
          "output_type": "stream",
          "name": "stdout",
          "text": [
            "Heuristic Value: -4\n"
          ]
        }
      ],
      "source": [
        "def calculate_heuristic(start_state, goal_state):\n",
        "    \"\"\"\n",
        "    Calculates the heuristic value of the start state compared to the goal state.\n",
        "\n",
        "    Args:\n",
        "        start_state (list): A list of stacks representing the current state.\n",
        "        goal_state (list): A list of stacks representing the goal state.\n",
        "\n",
        "    Returns:\n",
        "        int: The heuristic value of the state.\n",
        "    \"\"\"\n",
        "    heuristic = 0\n",
        "    for stack_index, goal_stack in enumerate(goal_state):\n",
        "        for i, block in enumerate(goal_stack):\n",
        "            if stack_index < len(start_state) and i < len(start_state[stack_index]):\n",
        "                if start_state[stack_index][i] == block:\n",
        "                    heuristic += 1\n",
        "                else:\n",
        "                    heuristic -= 1\n",
        "            else:\n",
        "                heuristic -= 1\n",
        "    return heuristic\n",
        "\n",
        "\n",
        "# Example usage\n",
        "start_state = [\n",
        "    ['A'],  # Stack 1\n",
        "    ['D'],  # Stack 2\n",
        "    ['C'],  # Stack 3\n",
        "    ['B']   # Stack 4\n",
        "]\n",
        "\n",
        "goal_state = [\n",
        "    ['D'],  # Stack 1\n",
        "    ['C'],  # Stack 2\n",
        "    ['B'],  # Stack 3\n",
        "    ['A']   # Stack 4\n",
        "]\n",
        "\n",
        "heuristic_value = calculate_heuristic(start_state, goal_state)\n",
        "print(\"Heuristic Value:\", heuristic_value)"
      ]
    }
  ]
}